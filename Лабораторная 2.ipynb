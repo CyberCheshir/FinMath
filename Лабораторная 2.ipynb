{
 "cells": [
  {
   "cell_type": "markdown",
   "id": "0e1104f8",
   "metadata": {},
   "source": [
    "J41112 Шваб Кирилл\n",
    "# Лабораторная работа 2\n",
    "Вариант 11"
   ]
  },
  {
   "cell_type": "markdown",
   "id": "44d02bf3",
   "metadata": {},
   "source": [
    "## Задание 1\n",
    "\n",
    "Пусть акция стоит 600\\$. На рынке можно купить европейский Call опцион со Strike price\n",
    "X = 580\\$ по цене 30\\$ с погашением через T = 1 год. У Васи, Пети и Коли есть вера и 600\\$ у\n",
    "каждого, они хотят вложиться в эти акции. Посчитайте результаты их инвестиций (абсолютные\n",
    "и в процентах), если Вася купит только один опцион, Петя - одну акцию, Коля - опционы на\n",
    "все деньги, и цена акции через год будет\n",
    "\n",
    "- 560\\$  \n",
    "- 590\\$  \n",
    "- 600\\$  \n",
    "- 630\\$  \n",
    "- 670\\$"
   ]
  },
  {
   "cell_type": "markdown",
   "id": "25aa112c",
   "metadata": {},
   "source": [
    "1. Для расчета финансового результата <strong>Васи</strong> необходимо воспользоваться следующей формулой:\n",
    "$$max(S-X, 0)- 30\\$ $$ \n",
    "\n",
    "2. Для расчета финансового результата для <strong>Пети</strong> необходимо воспользоваться следующей формулой: \n",
    "$$S_1-S_0$$ \n",
    "\n",
    "\n",
    "3. Для расчета финансового результата для <strong>Коли</strong> (20 опционов по 30\\\\$ за каждый) необходимо воспользоваться следующей формулой: \n",
    " $$max(S - X , 0)\\cdot20-20\\cdot30\\$ $$ \n",
    " "
   ]
  },
  {
   "cell_type": "code",
   "execution_count": 8,
   "id": "785069b8",
   "metadata": {},
   "outputs": [
    {
     "data": {
      "text/html": [
       "<div>\n",
       "<style scoped>\n",
       "    .dataframe tbody tr th:only-of-type {\n",
       "        vertical-align: middle;\n",
       "    }\n",
       "\n",
       "    .dataframe tbody tr th {\n",
       "        vertical-align: top;\n",
       "    }\n",
       "\n",
       "    .dataframe thead th {\n",
       "        text-align: right;\n",
       "    }\n",
       "</style>\n",
       "<table border=\"1\" class=\"dataframe\">\n",
       "  <thead>\n",
       "    <tr style=\"text-align: right;\">\n",
       "      <th></th>\n",
       "      <th>Цена акции</th>\n",
       "      <th>Вася</th>\n",
       "      <th>Петя</th>\n",
       "      <th>Коля</th>\n",
       "      <th>Совместный абсолютный результат</th>\n",
       "      <th>Совместный относительный результат, %</th>\n",
       "    </tr>\n",
       "  </thead>\n",
       "  <tbody>\n",
       "    <tr>\n",
       "      <th>0</th>\n",
       "      <td>560</td>\n",
       "      <td>-30</td>\n",
       "      <td>-40</td>\n",
       "      <td>-600.0</td>\n",
       "      <td>-670.0</td>\n",
       "      <td>-37.22</td>\n",
       "    </tr>\n",
       "    <tr>\n",
       "      <th>1</th>\n",
       "      <td>590</td>\n",
       "      <td>-20</td>\n",
       "      <td>-10</td>\n",
       "      <td>-400.0</td>\n",
       "      <td>-430.0</td>\n",
       "      <td>-23.89</td>\n",
       "    </tr>\n",
       "    <tr>\n",
       "      <th>2</th>\n",
       "      <td>600</td>\n",
       "      <td>-10</td>\n",
       "      <td>0</td>\n",
       "      <td>-200.0</td>\n",
       "      <td>-210.0</td>\n",
       "      <td>-11.67</td>\n",
       "    </tr>\n",
       "    <tr>\n",
       "      <th>3</th>\n",
       "      <td>630</td>\n",
       "      <td>20</td>\n",
       "      <td>30</td>\n",
       "      <td>400.0</td>\n",
       "      <td>450.0</td>\n",
       "      <td>25.00</td>\n",
       "    </tr>\n",
       "    <tr>\n",
       "      <th>4</th>\n",
       "      <td>670</td>\n",
       "      <td>60</td>\n",
       "      <td>70</td>\n",
       "      <td>1200.0</td>\n",
       "      <td>1330.0</td>\n",
       "      <td>73.89</td>\n",
       "    </tr>\n",
       "  </tbody>\n",
       "</table>\n",
       "</div>"
      ],
      "text/plain": [
       "   Цена акции  Вася  Петя    Коля  Совместный абсолютный результат  \\\n",
       "0         560   -30   -40  -600.0                           -670.0   \n",
       "1         590   -20   -10  -400.0                           -430.0   \n",
       "2         600   -10     0  -200.0                           -210.0   \n",
       "3         630    20    30   400.0                            450.0   \n",
       "4         670    60    70  1200.0                           1330.0   \n",
       "\n",
       "   Совместный относительный результат, %  \n",
       "0                                 -37.22  \n",
       "1                                 -23.89  \n",
       "2                                 -11.67  \n",
       "3                                  25.00  \n",
       "4                                  73.89  "
      ]
     },
     "execution_count": 8,
     "metadata": {},
     "output_type": "execute_result"
    }
   ],
   "source": [
    "import pandas as pd\n",
    "import numpy as np\n",
    "\n",
    "money = 600\n",
    "strike_price = 580\n",
    "euro_call = 30\n",
    "prices = np.array([560, 590, 600, 630, 670])\n",
    "\n",
    "\n",
    "def vasya_result(x, s, euro_call):\n",
    "        return max(s-x, 0) - euro_call\n",
    "\n",
    "\n",
    "def petya_result(s1, s0):\n",
    "        return s1 - s0\n",
    "\n",
    "\n",
    "def kolya_result(x, s, euro_call):\n",
    "        return (money/euro_call) * (max(s - x, 0) - euro_call)\n",
    "\n",
    "\n",
    "def exercise_1(s0, x, euro_call, spot_prices: np.array) -> pd.DataFrame:\n",
    "        \"\"\"Задание 1. Инвестиции\"\"\"\n",
    "        # значения для Васи\n",
    "        vasya = np.array([vasya_result(x, s, euro_call) for s in spot_prices])\n",
    "        # значения для Пети\n",
    "        petya =  np.array([petya_result(s1, s0) for s1 in spot_prices])\n",
    "        # значения для Коли\n",
    "        kolya = np.array([kolya_result(x,s,euro_call) for s in spot_prices])\n",
    "\n",
    "        # Совместные результаты\n",
    "        result_absolute = vasya + petya + kolya\n",
    "        result_relative  = np.round(100 * result_absolute / (3 * s0),2)\n",
    "\n",
    "        book = {'Цена акции': spot_prices,\n",
    "                'Вася': vasya,\n",
    "                'Петя': petya,\n",
    "                'Коля': kolya,\n",
    "                'Совместный абсолютный результат': result_absolute,\n",
    "                'Совместный относительный результат, %': result_relative}\n",
    "        return pd.DataFrame(book)\n",
    "\n",
    "exercise_1(money, strike_price,euro_call,prices)"
   ]
  },
  {
   "cell_type": "markdown",
   "id": "a76e402e",
   "metadata": {},
   "source": [
    "## Задание 2\n",
    "Пусть цена европейского Call опциона с X = 500\\$ равна 27\\$, а текущая цена акции pавна\n",
    "S = 506\\\\$. Найдите цену европейского Put опциона с тем же страйком, если $r = 1%$ и $T −t = 3$.\n",
    "Ответ округлите до целых."
   ]
  },
  {
   "cell_type": "markdown",
   "id": "5453f6a0",
   "metadata": {},
   "source": [
    "Цены Европейских Put и Call опционов с одинаковыми параметрами связаны формулой: $$C-P=S(t)-Xe^{-r(T-t)}$$\n",
    "$$P = C - S(t)+Xe^{-r(T-t)}$$"
   ]
  },
  {
   "cell_type": "code",
   "execution_count": 9,
   "id": "e1ec54b7",
   "metadata": {},
   "outputs": [
    {
     "name": "stdout",
     "output_type": "stream",
     "text": [
      "Цена Европейского Put опциона = 20.85$\n"
     ]
    }
   ],
   "source": [
    "from math import exp\n",
    "def exercise_2():\n",
    "    \"\"\"Задание 2. Найти Put опцион из уравнения\"\"\"\n",
    "    x = 500\n",
    "    r =1/100\n",
    "    dt = 3\n",
    "    s_t = 506\n",
    "    call = 27\n",
    "    euro_put = call - s_t + x * exp(-(r/100) * (dt))\n",
    "    return round(euro_put, 2)\n",
    "print(f'Цена Европейского Put опциона = {exercise_2()}$')"
   ]
  },
  {
   "cell_type": "markdown",
   "id": "a2a113b5",
   "metadata": {},
   "source": [
    "## Задание 3\n",
    "\n",
    "\n",
    "\n",
    "#### a) Для Европейских опционов построить графики зависимостей:\n",
    " - Цен и payoff-ов от цены базового актива\n",
    " - $∆$,$Γ$, $Θ$, $Vega$, $ρ$ от цены базового актива\n",
    " - <strong>Put-Call parity</strong>\n",
    "\n",
    "\n",
    "#### b) Пронаблюдать зависимость цены Европейского опциона от $T-t$, $r$ от $σ$ , сравнить с Греками."
   ]
  }
 ],
 "metadata": {
  "kernelspec": {
   "display_name": "Python 3 (ipykernel)",
   "language": "python",
   "name": "python3"
  },
  "language_info": {
   "codemirror_mode": {
    "name": "ipython",
    "version": 3
   },
   "file_extension": ".py",
   "mimetype": "text/x-python",
   "name": "python",
   "nbconvert_exporter": "python",
   "pygments_lexer": "ipython3",
   "version": "3.9.7"
  }
 },
 "nbformat": 4,
 "nbformat_minor": 5
}
