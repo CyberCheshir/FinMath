{
 "cells": [
  {
   "cell_type": "markdown",
   "metadata": {},
   "source": [
    "J41112 Шваб Кирилл\n",
    "# <center>Лабораторная работа 3</center>\n",
    "<center>Вариант 15</center>"
   ]
  },
  {
   "cell_type": "markdown",
   "metadata": {},
   "source": [
    "### Задание 1\n",
    "\n",
    "Пусть цена **Европейского Put** опциона с $X=500\\$$ *равна* $3\\$,$ а текущая цена акции равна $S=493\\$.$ Найдите цену **Американского Call** опциона с тем же страйком, если $r = 1\\%$ и $T = 3.$ Ответ округлите до целых."
   ]
  },
  {
   "cell_type": "markdown",
   "metadata": {},
   "source": [
    "Решение:\n",
    "\n",
    "Цены Европейских Put и Call опционов с одинаковыми параметрами связаны формулами\n",
    "$$C-P=S(t)-Xe^{-r(T-t)}$$\n",
    "\n",
    "$$C=S(t)-Xe^{-r(T-t)}+P$$"
   ]
  },
  {
   "cell_type": "code",
   "execution_count": 128,
   "metadata": {},
   "outputs": [],
   "source": [
    "import matplotlib.pyplot as plt\n",
    "from scipy.special import comb\n",
    "from scipy.stats import norm\n",
    "import numpy as np\n",
    "from math import exp, sqrt, log\n",
    "\n",
    "\n",
    "def exercise_1(x=500, r=5, dt=1, s_t=477, put=20):\n",
    "    \"\"\"Задание 1. Найти Put опцион из уравнения\"\"\"\n",
    "    euro_call = put + s_t - x * exp(-(r/100)*dt)\n",
    "    print(f'{round(euro_call,2)} ≈ {round(euro_call)}$')\n"
   ]
  },
  {
   "cell_type": "code",
   "execution_count": 129,
   "metadata": {},
   "outputs": [
    {
     "name": "stdout",
     "output_type": "stream",
     "text": [
      "21.39 ≈ 21$\n"
     ]
    }
   ],
   "source": [
    "exercise_1()\n"
   ]
  },
  {
   "cell_type": "markdown",
   "metadata": {},
   "source": [
    "# ИЗМЕНИТЬ\n",
    "\n",
    "*Цена **Европейского Call** опциона равна* $10,78\\$.$\n",
    "\n",
    "*Однако цена **Американского Call** опциона равна цене **Европейского**, т.е. в каждый момент времени, при любой цене базового актива, досрочное исполнение **Call** опциона не является оптимальным.*\n",
    "\n",
    "***Ответ:*** *цена **Американского Call** опциона при заданных параметрах **Европейского Put** опциона равна* $10,78\\$$\n",
    "\n",
    "\n",
    "Только не понятно в каких случаях мы переходим от европейских опционов к американсикм"
   ]
  },
  {
   "cell_type": "markdown",
   "metadata": {},
   "source": [
    "### 2 Задание \n",
    "#### Реализовать функции подсчета для\n"
   ]
  },
  {
   "cell_type": "markdown",
   "metadata": {},
   "source": [
    "2.1 Цен европейскиз опционов"
   ]
  },
  {
   "cell_type": "code",
   "execution_count": 130,
   "metadata": {},
   "outputs": [],
   "source": [
    "stock_price = 70  # типо спот прайс\n",
    "STRIKE_PRICE = 100\n",
    "SIGMA = 0.4\n",
    "R = 0.05\n",
    "T = 2\n",
    "cdf = norm.cdf \n",
    "pdf = norm.pdf\n",
    "\n",
    "\n",
    "N = np.arange(20, 401)"
   ]
  },
  {
   "cell_type": "markdown",
   "metadata": {},
   "source": [
    "Напишем функции для справделивых цен европейских опционов"
   ]
  },
  {
   "cell_type": "code",
   "execution_count": 131,
   "metadata": {},
   "outputs": [],
   "source": [
    "# Расчет цены для call опциона\n",
    "def fair_value_call(s, r=R, x=STRIKE_PRICE, t=T, sigma=SIGMA):\n",
    "    return cdf(d1(s, t=t, r=r, x=x, sigma=sigma))*s \\\n",
    "        - cdf(d2(s, r=r, x=x, t=t, sigma=sigma)) * x * exp(-r * t)\n",
    "\n",
    "# Расчет цены для put опциона\n",
    "\n",
    "\n",
    "def fair_value_put(s, r=R, x=STRIKE_PRICE, t=T, sigma=SIGMA):\n",
    "    return cdf(-d2(s, r=r, x=x, t=t, sigma=sigma))*x\\\n",
    "        * exp(-r * t) - cdf(-d1(s, t=t, r=r, x=x, sigma=sigma))*s\n",
    "\n",
    "\n",
    "def d1(s, r=R, x=STRIKE_PRICE, t=T, sigma=SIGMA):\n",
    "    return (log(s/x) + (r + (sigma**2)/2) * t)/(sigma * sqrt(t))\n",
    "\n",
    "\n",
    "def d2(s, r=R, x=STRIKE_PRICE, t=T, sigma=SIGMA):\n",
    "    return d1(s, r=r, x=x, t=t, sigma=sigma) - sigma *sqrt(t)\n"
   ]
  },
  {
   "cell_type": "markdown",
   "metadata": {},
   "source": [
    "Напишем цены для Payoff"
   ]
  },
  {
   "cell_type": "code",
   "execution_count": 132,
   "metadata": {},
   "outputs": [],
   "source": [
    "# Расчет pay-off для call\n",
    "def payoff_call(s, x=STRIKE_PRICE):\n",
    "    return max(s - x, 0)\n",
    "\n",
    "# Расчет pay-off для put\n",
    "def payoff_put(s, x=STRIKE_PRICE):\n",
    "    return max(x - s, 0)\n"
   ]
  },
  {
   "cell_type": "markdown",
   "metadata": {},
   "source": [
    "Напишем цены на i-ом шаге из цен i+1-го шага\n",
    "\n",
    "Требуется написать формулу для расчета на i-ом шаге (просто найти ее)\n",
    "\n",
    "$V=e^{-rdt}(pV^++(1-p)V^-)$\n"
   ]
  },
  {
   "cell_type": "code",
   "execution_count": 133,
   "metadata": {},
   "outputs": [],
   "source": [
    "# Функция для расчета цены опциона на i-ом шаге по известным цена на i+1-ом шаге\n",
    "def iPrice(v_up, v_down, p, r=R, dt=T):\n",
    "    return exp(-r * dt) * (p * v_up + (1 - p) * v_down)\n"
   ]
  },
  {
   "cell_type": "markdown",
   "metadata": {},
   "source": [
    "- *Цен **Европейских** опционов при помощи биномиальной модели*\n",
    "\n",
    "$C=e^{-rT}\\cdot\\sum_{i=0}^{n}{n \\choose i}p^{i}(1-p)^{n-i}\\cdot max(Su^{i}d^{n-i}-X,0)$\n",
    "\n",
    "$P=e^{-rT}\\cdot\\sum_{i=0}^{n}{n \\choose i}p^{i}(1-p)^{n-i}\\cdot max(X-Su^{i}d^{n-i},0)$"
   ]
  },
  {
   "cell_type": "code",
   "execution_count": 134,
   "metadata": {},
   "outputs": [],
   "source": [
    "# Функции для расчета парметров u, d, p\n",
    "def u(sigma=SIGMA, dt=T):\n",
    "    return exp(sigma * sqrt(dt))\n",
    "\n",
    "\n",
    "def d(sigma=SIGMA, dt=T):\n",
    "    return exp(-sigma * sqrt(dt))\n",
    "\n",
    "\n",
    "def p(sigma=SIGMA, dt=T, r=R):\n",
    "    return (exp(r * dt) - d(sigma, dt)) / (u(sigma, dt) - d(sigma, dt))\n",
    "\n",
    "def EuropianCallPriceBin(s, n, x=STRIKE_PRICE, r=R, sigma=SIGMA, dt=T):\n",
    "    t_i = dt / n\n",
    "    return (exp(-r * dt) *\n",
    "            np.sum([comb(n, i) * p(sigma, t_i, r)**i * (1 - p(sigma, t_i, r))**(n - i) *\n",
    "                    payoff_call(s * u(sigma, t_i)**i * d(sigma, t_i)**(n - i), x) for i in range(n)]))\n",
    "\n",
    "\n",
    "def EuropianPutPriceBin(s, n, x=STRIKE_PRICE, r=R, sigma=SIGMA, dt=T):\n",
    "    t_i = dt / n\n",
    "    return (exp(-r * dt) *\n",
    "            np.sum([comb(n, i) * p(sigma, t_i, r)**i * (1 - p(sigma, t_i, r))**(n - i) *\n",
    "                    payoff_put(s * u(sigma, t_i)**i * d(sigma, t_i)**(n - i), x) for i in range(n)]))\n"
   ]
  },
  {
   "cell_type": "markdown",
   "metadata": {},
   "source": [
    "- *Цены **Американского Put** опциона при помощи биномиальной модели*\n",
    "\n",
    "1) *Рассчитываем δt, u, d, p*\n",
    "\n",
    "2) *Рассчитываем цены опциона, соответствующие ценам базового актива на последнем уровне дерева (т.е. просто подставим* $S_{j,i}=Su^{i}d^{j-i}$ *в функцию выплат, получая* $C_{n,i}$ *или* $P_{n,i}$)\n",
    "\n",
    "3) *Из цен опционов на шаге j+1 получаем состояние на шаге j:*\n",
    "$$C_{i,j}=max[Su^{i}d^{j-i}-X, e^{-rδt}(pC_{j+1,i+1}+(1-p)C_{j+1,i})]$$\n",
    "$$P_{i,j}=max[X-Su^{i}d^{j-i}, e^{-rδt}(pP_{j+1,i+1}+(1-p)P_{j+1,i})]$$"
   ]
  },
  {
   "cell_type": "code",
   "execution_count": 135,
   "metadata": {},
   "outputs": [],
   "source": [
    "# Функция цены Американского Put опциона при помощи биномиальной модели\n",
    "def AmericanPriceBin(s, n, x=STRIKE_PRICE, sigma=SIGMA, r=R, dt=T, type='Call'):\n",
    "\n",
    "    # Расчитываем коэффициенты u, d, p, dt\n",
    "    t_i = dt / n\n",
    "    U = u(dt=t_i)\n",
    "    D = d(dt=t_i)\n",
    "    P = p(dt=t_i)\n",
    "\n",
    "    # Создаем дерево длинной N\n",
    "    OptionTree = {i: [] for i in range(n + 1)}\n",
    "    OptionTree[0].append(s)\n",
    "\n",
    "    # Прямой ход заполнения дерева\n",
    "    for i in range(1, n + 1):\n",
    "        for j in range(len(OptionTree[i - 1])):\n",
    "            if j == 0:\n",
    "                OptionTree[i].append(OptionTree[i - 1][j] * U)\n",
    "                OptionTree[i].append(OptionTree[i - 1][j] * D)\n",
    "            else:\n",
    "                OptionTree[i].append(OptionTree[i - 1][j] * D)\n",
    "\n",
    "    if type == 'Put':\n",
    "        # Расчет Payoff для итоговых значений опциона в момент Maturity Date\n",
    "        for i in range(n + 1):\n",
    "            OptionTree[n][i] = payoff_put(OptionTree[N][i], x)\n",
    "\n",
    "        # Обратный ход заоплнения дерева\n",
    "        for i in range(n - 1, -1, -1):\n",
    "            for j in range(len(OptionTree[i])):\n",
    "                OptionTree[i][j] = max(payoff_put(OptionTree[i][j], x),\n",
    "                                       iPrice(OptionTree[i + 1][j], OptionTree[i + 1][j + 1], P, r, t_i))\n",
    "\n",
    "    elif type == 'Call':\n",
    "        # Расчет Payoff для итоговых значений опциона в момент Maturity Date\n",
    "        for i in range(N + 1):\n",
    "            OptionTree[n][i] = payoff_call(OptionTree[n][i], x)\n",
    "\n",
    "        # Обратный ход заоплнения дерева\n",
    "        for i in range(n - 1, -1, -1):\n",
    "            for j in range(len(OptionTree[i])):\n",
    "                OptionTree[i][j] = max(payoff_call(OptionTree[i][j], x),\n",
    "                                       iPrice(OptionTree[i + 1][j], OptionTree[i + 1][j + 1], P, r, t_i))\n",
    "\n",
    "    return OptionTree[0][0]\n"
   ]
  },
  {
   "cell_type": "markdown",
   "metadata": {},
   "source": [
    "<u>***2.2*** *Постройте графики зависимости цен в биномиальной модели от числа шагов* $N$</u>\n",
    "    \n",
    "$S=70\\$, X=70\\$, T=2, r=5\\%, σ=40\\%, N=[20:40].$\n",
    "\n",
    "*Сравните полученные результаты:*\n",
    "\n",
    "   *- Для **Европейских** опционов - с точным решением (**Black-Sholes**)*\n",
    "\n",
    "   *- Для **Американского Put** - со сторонней реализацией биномиальной модели с количеством шагов $N=2000$.*"
   ]
  },
  {
   "cell_type": "code",
   "execution_count": 137,
   "metadata": {},
   "outputs": [
    {
     "ename": "TypeError",
     "evalue": "unhashable type: 'numpy.ndarray'",
     "output_type": "error",
     "traceback": [
      "\u001b[1;31m---------------------------------------------------------------------------\u001b[0m",
      "\u001b[1;31mTypeError\u001b[0m                                 Traceback (most recent call last)",
      "\u001b[1;32m~\\AppData\\Local\\Temp/ipykernel_27096/3259070483.py\u001b[0m in \u001b[0;36m<module>\u001b[1;34m\u001b[0m\n\u001b[0;32m      6\u001b[0m \u001b[1;32mfor\u001b[0m \u001b[0mn\u001b[0m \u001b[1;32min\u001b[0m \u001b[0mN\u001b[0m\u001b[1;33m:\u001b[0m\u001b[1;33m\u001b[0m\u001b[1;33m\u001b[0m\u001b[0m\n\u001b[0;32m      7\u001b[0m     \u001b[1;31m# Американские опционы - биномиальная модель\u001b[0m\u001b[1;33m\u001b[0m\u001b[1;33m\u001b[0m\u001b[0m\n\u001b[1;32m----> 8\u001b[1;33m     BinPutAmerican.append(AmericanPriceBin(\n\u001b[0m\u001b[0;32m      9\u001b[0m         stock_price, n, type='Put'))\n\u001b[0;32m     10\u001b[0m     BinCallAmerican.append(AmericanPriceBin(\n",
      "\u001b[1;32m~\\AppData\\Local\\Temp/ipykernel_27096/3656847068.py\u001b[0m in \u001b[0;36mAmericanPriceBin\u001b[1;34m(s, n, x, sigma, r, dt, type)\u001b[0m\n\u001b[0;32m     24\u001b[0m         \u001b[1;31m# Расчет Payoff для итоговых значений опциона в момент Maturity Date\u001b[0m\u001b[1;33m\u001b[0m\u001b[1;33m\u001b[0m\u001b[0m\n\u001b[0;32m     25\u001b[0m         \u001b[1;32mfor\u001b[0m \u001b[0mi\u001b[0m \u001b[1;32min\u001b[0m \u001b[0mrange\u001b[0m\u001b[1;33m(\u001b[0m\u001b[0mn\u001b[0m \u001b[1;33m+\u001b[0m \u001b[1;36m1\u001b[0m\u001b[1;33m)\u001b[0m\u001b[1;33m:\u001b[0m\u001b[1;33m\u001b[0m\u001b[1;33m\u001b[0m\u001b[0m\n\u001b[1;32m---> 26\u001b[1;33m             \u001b[0mOptionTree\u001b[0m\u001b[1;33m[\u001b[0m\u001b[0mn\u001b[0m\u001b[1;33m]\u001b[0m\u001b[1;33m[\u001b[0m\u001b[0mi\u001b[0m\u001b[1;33m]\u001b[0m \u001b[1;33m=\u001b[0m \u001b[0mpayoff_put\u001b[0m\u001b[1;33m(\u001b[0m\u001b[0mOptionTree\u001b[0m\u001b[1;33m[\u001b[0m\u001b[0mN\u001b[0m\u001b[1;33m]\u001b[0m\u001b[1;33m[\u001b[0m\u001b[0mi\u001b[0m\u001b[1;33m]\u001b[0m\u001b[1;33m,\u001b[0m \u001b[0mx\u001b[0m\u001b[1;33m)\u001b[0m\u001b[1;33m\u001b[0m\u001b[1;33m\u001b[0m\u001b[0m\n\u001b[0m\u001b[0;32m     27\u001b[0m \u001b[1;33m\u001b[0m\u001b[0m\n\u001b[0;32m     28\u001b[0m         \u001b[1;31m# Обратный ход заоплнения дерева\u001b[0m\u001b[1;33m\u001b[0m\u001b[1;33m\u001b[0m\u001b[0m\n",
      "\u001b[1;31mTypeError\u001b[0m: unhashable type: 'numpy.ndarray'"
     ]
    }
   ],
   "source": [
    "# Построим графики зависимости цен в биномиальной модели от числа шагов N\n",
    "BinPutAmerican, BinCallAmerican = [], []\n",
    "BinPutEuropian, BinCallEuropian = [], []\n",
    "BlackSholesPut, BlackSholesCall = [], []\n",
    "\n",
    "for n in N:\n",
    "    # Американские опционы - биномиальная модель\n",
    "    BinPutAmerican.append(AmericanPriceBin(\n",
    "        stock_price, n, type='Put'))\n",
    "    BinCallAmerican.append(AmericanPriceBin(\n",
    "        stock_price, n, type='Call'))\n",
    "\n",
    "    # Европейские опционы - биномиальная модель\n",
    "    BinPutEuropian.append(EuropianPutPriceBin(\n",
    "        stock_price, n))\n",
    "    BinCallEuropian.append(EuropianCallPriceBin(\n",
    "        stock_price,n))\n",
    "\n",
    "    # Точная цена Black-Sholes\n",
    "    BlackSholesPut.append(fair_value_put(\n",
    "        stock_price))\n",
    "    BlackSholesCall.append(fair_value_call(\n",
    "        stock_price))\n"
   ]
  },
  {
   "cell_type": "code",
   "execution_count": null,
   "metadata": {},
   "outputs": [
    {
     "ename": "NameError",
     "evalue": "name 'Option' is not defined",
     "output_type": "error",
     "traceback": [
      "\u001b[1;31m---------------------------------------------------------------------------\u001b[0m",
      "\u001b[1;31mNameError\u001b[0m                                 Traceback (most recent call last)",
      "\u001b[1;32m~\\AppData\\Local\\Temp/ipykernel_27096/2964842005.py\u001b[0m in \u001b[0;36m<module>\u001b[1;34m\u001b[0m\n\u001b[0;32m      4\u001b[0m \u001b[1;31m# Так как по условию задачи T = 2, то установим в Option t = 730, что равняется количествую дней за 2 года\u001b[0m\u001b[1;33m\u001b[0m\u001b[1;33m\u001b[0m\u001b[0m\n\u001b[0;32m      5\u001b[0m \u001b[1;32mfor\u001b[0m \u001b[0mi\u001b[0m \u001b[1;32min\u001b[0m \u001b[0mN\u001b[0m\u001b[1;33m:\u001b[0m\u001b[1;33m\u001b[0m\u001b[1;33m\u001b[0m\u001b[0m\n\u001b[1;32m----> 6\u001b[1;33m     OptionPrice_results.append(Option(european=False, kind='put', s0=70, k=70,\n\u001b[0m\u001b[0;32m      7\u001b[0m                                r=0.05, sigma=0.4, dv=0, t=730).getPrice(method='BT', iteration=2000))\n",
      "\u001b[1;31mNameError\u001b[0m: name 'Option' is not defined"
     ]
    }
   ],
   "source": [
    "# Расчет цены Американского опциона при помощи библиотеки Option-Price при N=2000\n",
    "OptionPrice_results = []\n",
    "\n",
    "# Так как по условию задачи T = 2, то установим в Option t = 730, что равняется количествую дней за 2 года\n",
    "#for i in N:\n",
    "#    OptionPrice_results.append(Option(european=False, kind='put', s0=70, k=70,\n",
    "                               r=0.05, sigma=0.4, dv=0, t=730).getPrice(method='BT', iteration=2000))\n"
   ]
  },
  {
   "cell_type": "code",
   "execution_count": null,
   "metadata": {},
   "outputs": [
    {
     "ename": "ValueError",
     "evalue": "x and y must be the same size",
     "output_type": "error",
     "traceback": [
      "\u001b[1;31m---------------------------------------------------------------------------\u001b[0m",
      "\u001b[1;31mValueError\u001b[0m                                Traceback (most recent call last)",
      "\u001b[1;32m~\\AppData\\Local\\Temp/ipykernel_27096/4142282699.py\u001b[0m in \u001b[0;36m<module>\u001b[1;34m\u001b[0m\n\u001b[0;32m      2\u001b[0m \u001b[1;33m\u001b[0m\u001b[0m\n\u001b[0;32m      3\u001b[0m \u001b[0mplt\u001b[0m\u001b[1;33m.\u001b[0m\u001b[0msubplot\u001b[0m\u001b[1;33m(\u001b[0m\u001b[1;36m2\u001b[0m\u001b[1;33m,\u001b[0m \u001b[1;36m2\u001b[0m\u001b[1;33m,\u001b[0m \u001b[1;36m1\u001b[0m\u001b[1;33m)\u001b[0m\u001b[1;33m\u001b[0m\u001b[1;33m\u001b[0m\u001b[0m\n\u001b[1;32m----> 4\u001b[1;33m plt.scatter(N, BinPutAmerican, c='blue', alpha=0.4,\n\u001b[0m\u001b[0;32m      5\u001b[0m             s=30, label='Американский Put опцион')\n\u001b[0;32m      6\u001b[0m plt.plot(N, OptionPrice_results, c='black', ls='--', alpha=0.4,\n",
      "\u001b[1;32mD:\\Anaconda\\lib\\site-packages\\matplotlib\\pyplot.py\u001b[0m in \u001b[0;36mscatter\u001b[1;34m(x, y, s, c, marker, cmap, norm, vmin, vmax, alpha, linewidths, edgecolors, plotnonfinite, data, **kwargs)\u001b[0m\n\u001b[0;32m   3066\u001b[0m         \u001b[0mvmin\u001b[0m\u001b[1;33m=\u001b[0m\u001b[1;32mNone\u001b[0m\u001b[1;33m,\u001b[0m \u001b[0mvmax\u001b[0m\u001b[1;33m=\u001b[0m\u001b[1;32mNone\u001b[0m\u001b[1;33m,\u001b[0m \u001b[0malpha\u001b[0m\u001b[1;33m=\u001b[0m\u001b[1;32mNone\u001b[0m\u001b[1;33m,\u001b[0m \u001b[0mlinewidths\u001b[0m\u001b[1;33m=\u001b[0m\u001b[1;32mNone\u001b[0m\u001b[1;33m,\u001b[0m \u001b[1;33m*\u001b[0m\u001b[1;33m,\u001b[0m\u001b[1;33m\u001b[0m\u001b[1;33m\u001b[0m\u001b[0m\n\u001b[0;32m   3067\u001b[0m         edgecolors=None, plotnonfinite=False, data=None, **kwargs):\n\u001b[1;32m-> 3068\u001b[1;33m     __ret = gca().scatter(\n\u001b[0m\u001b[0;32m   3069\u001b[0m         \u001b[0mx\u001b[0m\u001b[1;33m,\u001b[0m \u001b[0my\u001b[0m\u001b[1;33m,\u001b[0m \u001b[0ms\u001b[0m\u001b[1;33m=\u001b[0m\u001b[0ms\u001b[0m\u001b[1;33m,\u001b[0m \u001b[0mc\u001b[0m\u001b[1;33m=\u001b[0m\u001b[0mc\u001b[0m\u001b[1;33m,\u001b[0m \u001b[0mmarker\u001b[0m\u001b[1;33m=\u001b[0m\u001b[0mmarker\u001b[0m\u001b[1;33m,\u001b[0m \u001b[0mcmap\u001b[0m\u001b[1;33m=\u001b[0m\u001b[0mcmap\u001b[0m\u001b[1;33m,\u001b[0m \u001b[0mnorm\u001b[0m\u001b[1;33m=\u001b[0m\u001b[0mnorm\u001b[0m\u001b[1;33m,\u001b[0m\u001b[1;33m\u001b[0m\u001b[1;33m\u001b[0m\u001b[0m\n\u001b[0;32m   3070\u001b[0m         \u001b[0mvmin\u001b[0m\u001b[1;33m=\u001b[0m\u001b[0mvmin\u001b[0m\u001b[1;33m,\u001b[0m \u001b[0mvmax\u001b[0m\u001b[1;33m=\u001b[0m\u001b[0mvmax\u001b[0m\u001b[1;33m,\u001b[0m \u001b[0malpha\u001b[0m\u001b[1;33m=\u001b[0m\u001b[0malpha\u001b[0m\u001b[1;33m,\u001b[0m \u001b[0mlinewidths\u001b[0m\u001b[1;33m=\u001b[0m\u001b[0mlinewidths\u001b[0m\u001b[1;33m,\u001b[0m\u001b[1;33m\u001b[0m\u001b[1;33m\u001b[0m\u001b[0m\n",
      "\u001b[1;32mD:\\Anaconda\\lib\\site-packages\\matplotlib\\__init__.py\u001b[0m in \u001b[0;36minner\u001b[1;34m(ax, data, *args, **kwargs)\u001b[0m\n\u001b[0;32m   1359\u001b[0m     \u001b[1;32mdef\u001b[0m \u001b[0minner\u001b[0m\u001b[1;33m(\u001b[0m\u001b[0max\u001b[0m\u001b[1;33m,\u001b[0m \u001b[1;33m*\u001b[0m\u001b[0margs\u001b[0m\u001b[1;33m,\u001b[0m \u001b[0mdata\u001b[0m\u001b[1;33m=\u001b[0m\u001b[1;32mNone\u001b[0m\u001b[1;33m,\u001b[0m \u001b[1;33m**\u001b[0m\u001b[0mkwargs\u001b[0m\u001b[1;33m)\u001b[0m\u001b[1;33m:\u001b[0m\u001b[1;33m\u001b[0m\u001b[1;33m\u001b[0m\u001b[0m\n\u001b[0;32m   1360\u001b[0m         \u001b[1;32mif\u001b[0m \u001b[0mdata\u001b[0m \u001b[1;32mis\u001b[0m \u001b[1;32mNone\u001b[0m\u001b[1;33m:\u001b[0m\u001b[1;33m\u001b[0m\u001b[1;33m\u001b[0m\u001b[0m\n\u001b[1;32m-> 1361\u001b[1;33m             \u001b[1;32mreturn\u001b[0m \u001b[0mfunc\u001b[0m\u001b[1;33m(\u001b[0m\u001b[0max\u001b[0m\u001b[1;33m,\u001b[0m \u001b[1;33m*\u001b[0m\u001b[0mmap\u001b[0m\u001b[1;33m(\u001b[0m\u001b[0msanitize_sequence\u001b[0m\u001b[1;33m,\u001b[0m \u001b[0margs\u001b[0m\u001b[1;33m)\u001b[0m\u001b[1;33m,\u001b[0m \u001b[1;33m**\u001b[0m\u001b[0mkwargs\u001b[0m\u001b[1;33m)\u001b[0m\u001b[1;33m\u001b[0m\u001b[1;33m\u001b[0m\u001b[0m\n\u001b[0m\u001b[0;32m   1362\u001b[0m \u001b[1;33m\u001b[0m\u001b[0m\n\u001b[0;32m   1363\u001b[0m         \u001b[0mbound\u001b[0m \u001b[1;33m=\u001b[0m \u001b[0mnew_sig\u001b[0m\u001b[1;33m.\u001b[0m\u001b[0mbind\u001b[0m\u001b[1;33m(\u001b[0m\u001b[0max\u001b[0m\u001b[1;33m,\u001b[0m \u001b[1;33m*\u001b[0m\u001b[0margs\u001b[0m\u001b[1;33m,\u001b[0m \u001b[1;33m**\u001b[0m\u001b[0mkwargs\u001b[0m\u001b[1;33m)\u001b[0m\u001b[1;33m\u001b[0m\u001b[1;33m\u001b[0m\u001b[0m\n",
      "\u001b[1;32mD:\\Anaconda\\lib\\site-packages\\matplotlib\\axes\\_axes.py\u001b[0m in \u001b[0;36mscatter\u001b[1;34m(self, x, y, s, c, marker, cmap, norm, vmin, vmax, alpha, linewidths, edgecolors, plotnonfinite, **kwargs)\u001b[0m\n\u001b[0;32m   4496\u001b[0m         \u001b[0my\u001b[0m \u001b[1;33m=\u001b[0m \u001b[0mnp\u001b[0m\u001b[1;33m.\u001b[0m\u001b[0mma\u001b[0m\u001b[1;33m.\u001b[0m\u001b[0mravel\u001b[0m\u001b[1;33m(\u001b[0m\u001b[0my\u001b[0m\u001b[1;33m)\u001b[0m\u001b[1;33m\u001b[0m\u001b[1;33m\u001b[0m\u001b[0m\n\u001b[0;32m   4497\u001b[0m         \u001b[1;32mif\u001b[0m \u001b[0mx\u001b[0m\u001b[1;33m.\u001b[0m\u001b[0msize\u001b[0m \u001b[1;33m!=\u001b[0m \u001b[0my\u001b[0m\u001b[1;33m.\u001b[0m\u001b[0msize\u001b[0m\u001b[1;33m:\u001b[0m\u001b[1;33m\u001b[0m\u001b[1;33m\u001b[0m\u001b[0m\n\u001b[1;32m-> 4498\u001b[1;33m             \u001b[1;32mraise\u001b[0m \u001b[0mValueError\u001b[0m\u001b[1;33m(\u001b[0m\u001b[1;34m\"x and y must be the same size\"\u001b[0m\u001b[1;33m)\u001b[0m\u001b[1;33m\u001b[0m\u001b[1;33m\u001b[0m\u001b[0m\n\u001b[0m\u001b[0;32m   4499\u001b[0m \u001b[1;33m\u001b[0m\u001b[0m\n\u001b[0;32m   4500\u001b[0m         \u001b[1;32mif\u001b[0m \u001b[0ms\u001b[0m \u001b[1;32mis\u001b[0m \u001b[1;32mNone\u001b[0m\u001b[1;33m:\u001b[0m\u001b[1;33m\u001b[0m\u001b[1;33m\u001b[0m\u001b[0m\n",
      "\u001b[1;31mValueError\u001b[0m: x and y must be the same size"
     ]
    },
    {
     "data": {
      "image/png": "[encoded data removed]",
      "text/plain": [
       "<Figure size 1440x720 with 1 Axes>"
      ]
     },
     "metadata": {
      "needs_background": "light"
     },
     "output_type": "display_data"
    }
   ],
   "source": [
    "plt.figure(figsize=(20, 10))\n",
    "\n",
    "plt.subplot(2, 2, 1)\n",
    "plt.scatter(N, BinPutAmerican, c='blue', alpha=0.4,\n",
    "            s=30, label='Американский Put опцион')\n",
    "plt.plot(N, OptionPrice_results, c='black', ls='--', alpha=0.4,\n",
    "         label='Цена Американского Put опциона (пакет Option-Price, N=2000)')\n",
    "plt.title('Цена Американского Put опциона', fontweight=\"bold\")\n",
    "plt.legend()\n",
    "\n",
    "plt.subplot(2, 2, 2)\n",
    "plt.scatter(N, BinCallAmerican, c='blue', alpha=0.4,\n",
    "            s=30, label='Американский Call опцион')\n",
    "plt.title('Цена Американского Call опциона', fontweight=\"bold\")\n",
    "plt.legend()\n",
    "\n",
    "plt.subplot(2, 2, 3)\n",
    "plt.scatter(N, BinPutEuropian, c='red', alpha=0.4,\n",
    "            s=30, label='Европейский Put опцион')\n",
    "plt.plot(N, BlackSholesPut, c='black', ls='--',\n",
    "         alpha=0.4, label='Точное решение (Black-Sholes)')\n",
    "plt.title('Цена Европейского Put опциона', fontweight=\"bold\")\n",
    "plt.legend()\n",
    "\n",
    "plt.subplot(2, 2, 4)\n",
    "plt.scatter(N, BinCallEuropian, c='red', alpha=0.4,\n",
    "            s=30, label='Европейский Call опцион')\n",
    "plt.plot(N, BlackSholesCall, c='black', ls='--',\n",
    "         alpha=0.4, label='Точное решение (Black-Sholes)')\n",
    "plt.title('Цена Европейского Call опциона', fontweight=\"bold\")\n",
    "plt.legend()\n"
   ]
  },
  {
   "cell_type": "markdown",
   "metadata": {},
   "source": [
    "*Из получившихся результатов видно, что цена **Американского** и **Европейского Call** опционов совпадает. Цена **Американского Put** опциона во всех точках выше, чем цена **Европейского Put** опциона. Кроме того, можно заметить, что при увеличении количества шагов цена **Европейских** опционов стремится к своему точному значению, рассчитанному по формуле **Блэка-Шоулза**.*"
   ]
  },
  {
   "cell_type": "markdown",
   "metadata": {},
   "source": [
    "<u>***2.3*** *Поменяйте страйк на* $X=63\\$$ *и постройте график цен для **Европейского Call** опциона. Как изменилось поведение? Каковы могут быть причины таких изменений?*</u>"
   ]
  },
  {
   "cell_type": "code",
   "execution_count": null,
   "metadata": {},
   "outputs": [],
   "source": [
    "BinCallEuropian2 = []\n",
    "BlackSholesCall2 = []\n",
    "\n",
    "for i in N:\n",
    "    BinCallEuropian2.append(EuropianCallPriceBin(\n",
    "        assetPrice, 63, rate, sigma, Time, i))\n",
    "    BlackSholesCall2.append(EuropianCallPrice(\n",
    "        assetPrice, 63, rate, sigma, Time, 0))\n",
    "\n",
    "plt.figure(figsize=(15, 8))\n",
    "plt.scatter(N, BinCallEuropian2, c='red', alpha=0.4,\n",
    "            s=30, label='Европейский Call опцион')\n",
    "plt.plot(N, BlackSholesCall2, c='black', ls='--',\n",
    "         alpha=0.4, label='Точное решение (Black-Sholes)')\n",
    "plt.title('Цена Европейского Call опциона (X=63$)', fontweight=\"bold\")\n",
    "plt.legend()\n"
   ]
  }
 ],
 "metadata": {
  "interpreter": {
   "hash": "07efdcd4b820c98a756949507a4d29d7862823915ec7477944641bea022f4f62"
  },
  "kernelspec": {
   "display_name": "Python 3 (ipykernel)",
   "language": "python",
   "name": "python3"
  },
  "language_info": {
   "codemirror_mode": {
    "name": "ipython",
    "version": 3
   },
   "file_extension": ".py",
   "mimetype": "text/x-python",
   "name": "python",
   "nbconvert_exporter": "python",
   "pygments_lexer": "ipython3",
   "version": "3.9.7"
  }
 },
 "nbformat": 4,
 "nbformat_minor": 2
}
